{
 "cells": [
  {
   "cell_type": "markdown",
   "id": "831134ef-6e52-4179-89c8-1f6776e880c5",
   "metadata": {},
   "source": [
    "## Задание 1"
   ]
  },
  {
   "cell_type": "code",
   "execution_count": 81,
   "id": "5febc06d-ccc6-49ff-965e-603edf2a8cdd",
   "metadata": {},
   "outputs": [
    {
     "name": "stdout",
     "output_type": "stream",
     "text": [
      "R2 score = 0.711226005748496\n"
     ]
    }
   ],
   "source": [
    "import numpy as np\n",
    "import pandas as pd\n",
    "from sklearn.model_selection import train_test_split\n",
    "from sklearn.linear_model import LinearRegression\n",
    "from sklearn.metrics import mean_squared_error as mse, r2_score\n",
    "import warnings\n",
    "from sklearn.datasets import load_boston\n",
    "\n",
    "warnings.filterwarnings(\"ignore\")\n",
    "boston = load_boston()\n",
    "X = pd.DataFrame(boston[\"data\"], columns=boston[\"feature_names\"])\n",
    "y = pd.DataFrame(boston[\"target\"], columns=[\"price\"])\n",
    "\n",
    "X_train, X_test, y_train, y_test = train_test_split(X, y, test_size=0.30, shuffle=True, random_state=42)\n",
    "lr = LinearRegression()\n",
    "lr.fit(X_train, y_train)\n",
    "y_test_preds = lr.predict(X_test)\n",
    "\n",
    "r2 = r2_score(y_test, y_test_preds)\n",
    "print(\"R2 score =\",r2)"
   ]
  },
  {
   "cell_type": "markdown",
   "id": "11231d62-5f61-4f12-90f6-34e991777bf3",
   "metadata": {},
   "source": [
    "## Задание 2"
   ]
  },
  {
   "cell_type": "code",
   "execution_count": 82,
   "id": "d74837b2-a4fa-4e5e-b18c-713fcdbe8f33",
   "metadata": {},
   "outputs": [
    {
     "name": "stdout",
     "output_type": "stream",
     "text": [
      "R2 score = 0.87472606157312\n"
     ]
    }
   ],
   "source": [
    "from sklearn.ensemble import RandomForestRegressor\n",
    "model = RandomForestRegressor(max_depth=12, \n",
    "                                 random_state=42, \n",
    "                                 n_estimators=1000\n",
    "                                 )\n",
    "\n",
    "model.fit(X_train, y_train.values[:, 0])\n",
    "y_test_preds = model.predict(X_test)\n",
    "r2 = r2_score(y_test, y_test_preds)\n",
    "print(\"R2 score =\",r2)"
   ]
  },
  {
   "cell_type": "markdown",
   "id": "61c91765-0814-481a-9acf-c2d07fc4f0ad",
   "metadata": {},
   "source": [
    "### Модель RandomForestRegressor работает лучше LinearRegression"
   ]
  },
  {
   "cell_type": "markdown",
   "id": "7743eb5a-1bbc-4c2d-8ece-f88a05f1e19b",
   "metadata": {},
   "source": [
    "## Задание 3"
   ]
  },
  {
   "cell_type": "code",
   "execution_count": 87,
   "id": "a4703afe-4833-4450-85f6-54c46dfb5022",
   "metadata": {},
   "outputs": [
    {
     "data": {
      "text/plain": [
       "1.0"
      ]
     },
     "execution_count": 87,
     "metadata": {},
     "output_type": "execute_result"
    }
   ],
   "source": [
    "model.feature_importances_.sum()"
   ]
  },
  {
   "cell_type": "code",
   "execution_count": 114,
   "id": "e4b40e5a-21b8-4a9d-a004-0e8698c69a2d",
   "metadata": {},
   "outputs": [
    {
     "data": {
      "text/plain": [
       "[('LSTAT', 0.4158473181914483),\n",
       " ('RM', 0.4026817857034993),\n",
       " ('DIS', 0.06397256527230023),\n",
       " ('CRIM', 0.03167574073875602),\n",
       " ('PTRATIO', 0.01808107640502542),\n",
       " ('AGE', 0.014298644996729816),\n",
       " ('NOX', 0.014268969875348304),\n",
       " ('B', 0.0124508530140077),\n",
       " ('TAX', 0.011524934553144586),\n",
       " ('INDUS', 0.007138131415845556),\n",
       " ('RAD', 0.005281218312887839),\n",
       " ('ZN', 0.001542516626232885),\n",
       " ('CHAS', 0.0012362448947738866)]"
      ]
     },
     "execution_count": 114,
     "metadata": {},
     "output_type": "execute_result"
    }
   ],
   "source": [
    "fi = [(n,v)  for n,v in zip(model.feature_names_in_,model.feature_importances_)]\n",
    "fi.sort(key=lambda a: a[1], reverse=True)\n",
    "fi"
   ]
  },
  {
   "cell_type": "markdown",
   "id": "2519a08a-3e4f-4d3b-a950-e7237b952d72",
   "metadata": {},
   "source": [
    "### Наиболее важные два LSTAT RM"
   ]
  },
  {
   "cell_type": "markdown",
   "id": "58a36349-b809-4533-a109-722f47b99bb9",
   "metadata": {},
   "source": [
    "## Задание 4"
   ]
  },
  {
   "cell_type": "code",
   "execution_count": 132,
   "id": "0ef059e9-3139-4e2c-94fb-74c0d959706d",
   "metadata": {},
   "outputs": [],
   "source": [
    "from sklearn.ensemble import RandomForestClassifier\n",
    "from sklearn.model_selection import GridSearchCV\n",
    "df = pd.read_csv(\"./data/creditcard.csv\", sep=',')"
   ]
  },
  {
   "cell_type": "code",
   "execution_count": 150,
   "id": "3acfc049-cefa-44e7-867e-fd427a1e0ea3",
   "metadata": {},
   "outputs": [
    {
     "name": "stdout",
     "output_type": "stream",
     "text": [
      "не сбалансирована:\n",
      "0    0.998273\n",
      "1    0.001727\n",
      "Name: Class, dtype: float64\n",
      "<class 'pandas.core.frame.DataFrame'>\n",
      "RangeIndex: 284807 entries, 0 to 284806\n",
      "Data columns (total 31 columns):\n",
      " #   Column  Non-Null Count   Dtype  \n",
      "---  ------  --------------   -----  \n",
      " 0   Time    284807 non-null  float64\n",
      " 1   V1      284807 non-null  float64\n",
      " 2   V2      284807 non-null  float64\n",
      " 3   V3      284807 non-null  float64\n",
      " 4   V4      284807 non-null  float64\n",
      " 5   V5      284807 non-null  float64\n",
      " 6   V6      284807 non-null  float64\n",
      " 7   V7      284807 non-null  float64\n",
      " 8   V8      284807 non-null  float64\n",
      " 9   V9      284807 non-null  float64\n",
      " 10  V10     284807 non-null  float64\n",
      " 11  V11     284807 non-null  float64\n",
      " 12  V12     284807 non-null  float64\n",
      " 13  V13     284807 non-null  float64\n",
      " 14  V14     284807 non-null  float64\n",
      " 15  V15     284807 non-null  float64\n",
      " 16  V16     284807 non-null  float64\n",
      " 17  V17     284807 non-null  float64\n",
      " 18  V18     284807 non-null  float64\n",
      " 19  V19     284807 non-null  float64\n",
      " 20  V20     284807 non-null  float64\n",
      " 21  V21     284807 non-null  float64\n",
      " 22  V22     284807 non-null  float64\n",
      " 23  V23     284807 non-null  float64\n",
      " 24  V24     284807 non-null  float64\n",
      " 25  V25     284807 non-null  float64\n",
      " 26  V26     284807 non-null  float64\n",
      " 27  V27     284807 non-null  float64\n",
      " 28  V28     284807 non-null  float64\n",
      " 29  Amount  284807 non-null  float64\n",
      " 30  Class   284807 non-null  int64  \n",
      "dtypes: float64(30), int64(1)\n",
      "memory usage: 67.4 MB\n",
      "(199364, 30) (85443, 30) (199364, 1) (85443, 1)\n"
     ]
    },
    {
     "data": {
      "text/plain": [
       "GridSearchCV(cv=3, estimator=RandomForestClassifier(random_state=100),\n",
       "             param_grid=[{'max_depth': array([4, 5, 6]),\n",
       "                          'max_features': array([3, 4]),\n",
       "                          'n_estimators': [10, 15]}],\n",
       "             scoring='roc_auc')"
      ]
     },
     "execution_count": 150,
     "metadata": {},
     "output_type": "execute_result"
    }
   ],
   "source": [
    "print(\"не сбалансирована:\")\n",
    "print(df.Class.value_counts(normalize=True))\n",
    "df.info()\n",
    "pd.options.display.max_columns = 100\n",
    "df.head(10)\n",
    "y = pd.DataFrame(df[\"Class\"], columns=[\"Class\"]) \n",
    "X = df.drop(\"Class\", axis=1)\n",
    "X_train, X_test, y_train, y_test = train_test_split(X, y, test_size=0.3, random_state=100, stratify=y)\n",
    "print(X_train.shape,X_test.shape,y_train.shape,y_test.shape)\n",
    "\n",
    "parameters = [{'n_estimators': [10, 15],\n",
    "'max_features': np.arange(3, 5),\n",
    "'max_depth': np.arange(4, 7)}]\n",
    "clf = GridSearchCV(\n",
    "    estimator=RandomForestClassifier(random_state=100),\n",
    "    param_grid=parameters,\n",
    "    scoring='roc_auc',\n",
    "    cv=3\n",
    " )\n",
    "clf.fit(X_train, y_train)"
   ]
  },
  {
   "cell_type": "code",
   "execution_count": 155,
   "id": "7a404b93-52f7-4a44-a078-b3cac8ed7dfa",
   "metadata": {},
   "outputs": [
    {
     "name": "stdout",
     "output_type": "stream",
     "text": [
      "{'max_depth': 6, 'max_features': 3, 'n_estimators': 15}\n",
      "0.9703527882554751\n",
      "0.9462664156037156\n"
     ]
    }
   ],
   "source": [
    "from sklearn.metrics import roc_auc_score\n",
    "\n",
    "print(clf.best_params_)\n",
    "y_pred_proba = clf.predict_proba(X_test)\n",
    "y_pred_proba = y_pred_proba[:, 1]\n",
    "print(roc_auc_score(y_train, clf.predict_proba(X_train)[:,1]))\n",
    "print(roc_auc_score(y_test, y_pred_proba))"
   ]
  },
  {
   "cell_type": "code",
   "execution_count": null,
   "id": "c353ec2d-270f-449f-a2be-ba84a8f919b4",
   "metadata": {},
   "outputs": [],
   "source": []
  }
 ],
 "metadata": {
  "kernelspec": {
   "display_name": "Python 3 (ipykernel)",
   "language": "python",
   "name": "python3"
  },
  "language_info": {
   "codemirror_mode": {
    "name": "ipython",
    "version": 3
   },
   "file_extension": ".py",
   "mimetype": "text/x-python",
   "name": "python",
   "nbconvert_exporter": "python",
   "pygments_lexer": "ipython3",
   "version": "3.8.12"
  }
 },
 "nbformat": 4,
 "nbformat_minor": 5
}
